{
 "cells": [
  {
   "cell_type": "markdown",
   "metadata": {},
   "source": [
    "# Apprendre a utiliser et visualiser un Dataset Synthetic\n",
    "\n",
    "a la fin de ce workshop vous saurez:\n",
    "\n",
    "- adopter un workflow de base avec Github (develop, verify ,Commit)\n",
    "- generer une dataset synthetic de classification 2D ac la libraire sklearn\n",
    "- visualser les classes du dataset sur un graphique 2D\n",
    "- visualiser les predictions de votre reseau de neurinnes sur un graphique 2D\n",
    "- bonus"
   ]
  },
  {
   "cell_type": "code",
   "execution_count": 1,
   "metadata": {},
   "outputs": [],
   "source": [
    "# importer les librairies utiles\n",
    "\n",
    "import numpy as np\n",
    "import matplotlib.pyplot as plt\n",
    "\n",
    "from sklearn.datasets import make_moons, make_circles, make_classification"
   ]
  },
  {
   "cell_type": "code",
   "execution_count": 5,
   "metadata": {},
   "outputs": [
    {
     "name": "stdout",
     "output_type": "stream",
     "text": [
      "(200, 2)\n",
      "(200,)\n",
      "\n",
      "(132, 2)\n",
      "(132, 1)\n",
      "(68, 2)\n",
      "(68, 1)\n"
     ]
    }
   ],
   "source": [
    "# Créer un dataset séparable par une ligne droite en 2D\n",
    "\n",
    "def split_dataset(X, y, train_pct=0.66):\n",
    "    \"\"\" Va séparer les datasets avec respect pour le pourcentage du dataset à mettre dans le train set.\n",
    "    Warning: La dimension des exemples doit être la première.\n",
    "    \n",
    "    :X mes exemples, shape=(m, -1), m -> dimensions des exemples\n",
    "    :y mes labels, shape=(m, -1), m -> dimensions des exemples\n",
    "    :train_pct (default=0.66) Optionnal, c'est un pourcentage qui va séparer le de dataset avec train_pct * total_size dans le train set.\n",
    "    \n",
    "    return X_train, y_train, X_test, y_test \n",
    "    \n",
    "\n",
    "    >>> X_train, y_train, X_test, y_test = split_dataset(X, y)\n",
    "    \"\"\"\n",
    "    # 1ere dimension -> celle des exemples\n",
    "    total_size = X.shape[0]\n",
    "    \n",
    "    if y.ndim == 1:\n",
    "        y = y.reshape(-1, 1)\n",
    "    \n",
    "    # On récupère `train_pct` % du dataset pour le train set, aussi il faut convertir en entier pour numpy ...\n",
    "    train_size = int(train_pct * total_size)\n",
    "    # ... et on met le reste danss le test set\n",
    "    test_size  = total_size - train_size \n",
    "    \n",
    "    # On met les `train_size` premier exemples/labels dans le train set ...\n",
    "    X_train, y_train = (X[:train_size], y[:train_size])\n",
    "    # ... et les test_size derniers exemples/labels dans le test set.\n",
    "    X_test , y_test  = (X[-test_size:], y[-test_size:])\n",
    "\n",
    "    # On s'assure que tous les exemples soient présents dans le test set ou le train set.\n",
    "    assert X_test.shape[0] + X_train.shape[0] == total_size\n",
    "    assert y_test.shape[0] + y_train.shape[0] == total_size\n",
    "    \n",
    "    return X_train, y_train, X_test, y_test \n",
    "\n",
    "\n",
    "\n",
    "X, y = make_classification(n_samples=200,\n",
    "                          n_features=2, n_redundant=0, n_informative=2,\n",
    "                          random_state=1, n_clusters_per_class=1)\n",
    "\n",
    "for each in (X, y):\n",
    "    print(each.shape)\n",
    "\n",
    "print()\n",
    "\n",
    "X_train, y_train, X_test, y_test = split_dataset(X, y)\n",
    "\n",
    "for each in (X_train, y_train, X_test, y_test):\n",
    "    print(each.shape)\n",
    "        "
   ]
  },
  {
   "cell_type": "code",
   "execution_count": 7,
   "metadata": {},
   "outputs": [],
   "source": [
    "# refactoriser plot_dataset\n",
    "\n",
    "def plot_dataset(x,y):\n",
    "    \"\"\"\n",
    "    permet d'afficher les classes 'y' d'examples a deux features(2D), 'X'\n",
    "    :x, matrices d'examples, deux features par example shape = (m,2)\n",
    "    :y, matices de labels, shape =(m,1)\n",
    "    return : None\n",
    "    \n",
    "    \"\"\"\n",
    "    \n",
    "    plt.scatter(x[:,0], x[:,1], \n",
    "            c = y[:, 0],\n",
    "           cmap = plt.cm.jet)\n",
    "    \n",
    "    return None\n",
    "    \n"
   ]
  },
  {
   "cell_type": "code",
   "execution_count": 10,
   "metadata": {},
   "outputs": [],
   "source": [
    "# creer un dataset lineairement separable\n",
    "\n",
    "#creation d'un dataset de classification en 2D avec la fonction `make_classification` du mode `sklearn`\n"
   ]
  },
  {
   "cell_type": "code",
   "execution_count": null,
   "metadata": {},
   "outputs": [],
   "source": []
  },
  {
   "cell_type": "code",
   "execution_count": null,
   "metadata": {},
   "outputs": [],
   "source": []
  }
 ],
 "metadata": {
  "kernelspec": {
   "display_name": "Python 3",
   "language": "python",
   "name": "python3"
  }
 },
 "nbformat": 4,
 "nbformat_minor": 2
}
