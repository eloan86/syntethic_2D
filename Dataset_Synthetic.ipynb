{
 "cells": [
  {
   "cell_type": "markdown",
   "metadata": {},
   "source": [
    "# Apprendre a utiliser et visualiser un Dataset Synthetic\n",
    "\n",
    "a la fin de ce workshop vous saurez:\n",
    "\n",
    "- adopter un workflow de base avec Github (develop, verify ,Commit)\n",
    "- generer une dataset synthetic de classification 2D ac la libraire sklearn\n",
    "- visualser les classes du dataset sur un graphique 2D\n",
    "- visualiser les predictions de votre reseau de neurinnes sur un graphique 2D\n",
    "- bonus"
   ]
  },
  {
   "cell_type": "code",
   "execution_count": 3,
   "metadata": {},
   "outputs": [],
   "source": [
    "# importer les librairies utiles\n",
    "\n",
    "import numpy as np\n",
    "import matplotlib.pyplot as plt\n",
    "\n",
    "from sklearn.datasets import make_moons, make_circles, make_classification"
   ]
  },
  {
   "cell_type": "code",
   "execution_count": 6,
   "metadata": {},
   "outputs": [
    {
     "name": "stdout",
     "output_type": "stream",
     "text": [
      "total size 150\n"
     ]
    }
   ],
   "source": [
    "# creer un dataset separable par une ligne droite en 2D\n",
    "\n",
    "train_size = 100\n",
    "test_size = 50\n",
    "total_size = train_size + test_size\n",
    "print(f\"total size {total_size}\")\n"
   ]
  },
  {
   "cell_type": "code",
   "execution_count": 8,
   "metadata": {},
   "outputs": [],
   "source": [
    ",y = make_classification(n_samples = total_size,\n",
    "                         n_features = 2, n_redundant = 0, n_informative = 2,\n",
    "                         random_state=1, n_clusters_per_class = 1)"
   ]
  },
  {
   "cell_type": "code",
   "execution_count": 9,
   "metadata": {},
   "outputs": [
    {
     "data": {
      "text/plain": [
       "((150, 2), (150,))"
      ]
     },
     "execution_count": 9,
     "metadata": {},
     "output_type": "execute_result"
    }
   ],
   "source": [
    "x.shape, y.shape\n"
   ]
  },
  {
   "cell_type": "code",
   "execution_count": 11,
   "metadata": {},
   "outputs": [
    {
     "data": {
      "text/plain": [
       "(array([[ 0.05065666, -1.04565042],\n",
       "        [ 1.89212817,  0.14141529],\n",
       "        [ 2.07731874, -1.10588188],\n",
       "        [-0.21268004,  1.55015655],\n",
       "        [ 1.33003867, -0.93929107],\n",
       "        [ 0.9684331 , -1.14497058],\n",
       "        [-0.12252602, -0.92897868],\n",
       "        [-2.11442959, -0.72665594],\n",
       "        [ 1.30958609, -1.03968501],\n",
       "        [ 1.22239591, -1.00761238]]), array([1, 0, 1, 0, 1, 1, 1, 1, 1, 1]))"
      ]
     },
     "execution_count": 11,
     "metadata": {},
     "output_type": "execute_result"
    }
   ],
   "source": [
    "x[:10], y[:10]"
   ]
  },
  {
   "cell_type": "code",
   "execution_count": null,
   "metadata": {},
   "outputs": [],
   "source": []
  }
 ],
 "metadata": {
  "kernelspec": {
   "display_name": "Python 3",
   "language": "python",
   "name": "python3"
  },
  "language_info": {
   "codemirror_mode": {
    "name": "ipython",
    "version": 3
   },
   "file_extension": ".py",
   "mimetype": "text/x-python",
   "name": "python",
   "nbconvert_exporter": "python",
   "pygments_lexer": "ipython3",
   "version": "3.7.1"
  }
 },
 "nbformat": 4,
 "nbformat_minor": 2
}
