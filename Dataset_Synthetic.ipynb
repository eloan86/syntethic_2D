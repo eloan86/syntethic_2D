{
 "cells": [
  {
   "cell_type": "markdown",
   "metadata": {},
   "source": [
    "# Apprendre a utiliser et visualiser un Dataset Synthetic\n",
    "\n",
    "a la fin de ce workshop vous saurez:\n",
    "\n",
    "- adopter un workflow de base avec Github (develop, verify ,Commit)\n",
    "- generer une dataset synthetic de classification 2D ac la libraire sklearn\n",
    "- visualser les classes du dataset sur un graphique 2D\n",
    "- visualiser les predictions de votre reseau de neurinnes sur un graphique 2D\n",
    "- bonus"
   ]
  },
  {
   "cell_type": "code",
   "execution_count": null,
   "metadata": {},
   "outputs": [],
   "source": []
  }
 ],
 "metadata": {
  "kernelspec": {
   "display_name": "Python 3",
   "language": "python",
   "name": "python3"
  },
  "language_info": {
   "codemirror_mode": {
    "name": "ipython",
    "version": 3
   },
   "file_extension": ".py",
   "mimetype": "text/x-python",
   "name": "python",
   "nbconvert_exporter": "python",
   "pygments_lexer": "ipython3",
   "version": "3.7.1"
  }
 },
 "nbformat": 4,
 "nbformat_minor": 2
}
